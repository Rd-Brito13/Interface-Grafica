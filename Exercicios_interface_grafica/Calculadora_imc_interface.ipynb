{
 "cells": [
  {
   "cell_type": "code",
   "execution_count": 18,
   "id": "2b01f7d3",
   "metadata": {},
   "outputs": [],
   "source": [
    "import tkinter as tk\n",
    "from tkinter import messagebox\n",
    "\n",
    "class CalculadoraIMC:\n",
    "    def __init__(self, root):\n",
    "        self.root = root\n",
    "        self.root.title(\"Calculadora IMC\")\n",
    "\n",
    "        self.label_altura = tk.Label(root, text=\"Altura (m):\", font=(\"Arial\", 20))\n",
    "        self.label_altura.pack(anchor = \"center\", side= \"top\")\n",
    "\n",
    "        self.entry_altura = tk.Entry(root)\n",
    "        self.entry_altura.pack()\n",
    "\n",
    "        self.label_peso = tk.Label(root, text=\"Peso (kg):\")\n",
    "        self.label_peso.pack()\n",
    "\n",
    "        self.entry_peso = tk.Entry(root)\n",
    "        self.entry_peso.pack()\n",
    "\n",
    "        self.button_calcular = tk.Button(root, text=\"Calcular\", command=self.exibir_resultado, width = 13, height = 2)\n",
    "        self.button_calcular.pack(anchor = \"center\", side = \"top\")\n",
    "\n",
    "    def calcular_imc(self, altura, peso):\n",
    "        imc = peso / (altura ** 2)\n",
    "        return imc\n",
    "\n",
    "    def getClassificacao(self, imc):\n",
    "        if imc < 18.5:\n",
    "            return \"Abaixo do peso normal\"\n",
    "        elif 18.5 <= imc <= 24.9:\n",
    "            return \"Peso normal\"\n",
    "        elif 25.0 <= imc <= 29.9:\n",
    "            return \"Excesso de peso\"\n",
    "        elif 30.0 <= imc <= 34.9:\n",
    "            return \"Obesidade classe 1\"\n",
    "        elif 35.0 <= imc <= 39.9:\n",
    "            return \"Obesidade grau 2\"\n",
    "        else:\n",
    "            return \"Obesidade grau 3\"\n",
    "\n",
    "    def exibir_resultado(self):\n",
    "        altura = float(self.entry_altura.get())\n",
    "        peso = float(self.entry_peso.get())\n",
    "\n",
    "        imc = self.calcular_imc(altura, peso)\n",
    "        classificacao = self.getClassificacao(imc)\n",
    "\n",
    "        messagebox.showinfo(\"Resultado\", \"IMC: {:.2f}\\nClassificação: {}\".format(imc, classificacao))\n",
    "\n",
    "root = tk.Tk()\n",
    "calculadora = CalculadoraIMC(root)\n",
    "root.mainloop()"
   ]
  }
 ],
 "metadata": {
  "kernelspec": {
   "display_name": "Python 3 (ipykernel)",
   "language": "python",
   "name": "python3"
  },
  "language_info": {
   "codemirror_mode": {
    "name": "ipython",
    "version": 3
   },
   "file_extension": ".py",
   "mimetype": "text/x-python",
   "name": "python",
   "nbconvert_exporter": "python",
   "pygments_lexer": "ipython3",
   "version": "3.10.9"
  }
 },
 "nbformat": 4,
 "nbformat_minor": 5
}
